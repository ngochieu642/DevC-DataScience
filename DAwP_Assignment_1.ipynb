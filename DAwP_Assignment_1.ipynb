{
 "cells": [
  {
   "cell_type": "markdown",
   "metadata": {
    "colab_type": "text",
    "id": "jjZG7BNlbWtO"
   },
   "source": [
    "![](https://i.imgur.com/0AUxkXt.png)"
   ]
  },
  {
   "cell_type": "markdown",
   "metadata": {
    "colab_type": "text",
    "id": "jbpQzyjqbflM"
   },
   "source": [
    "# Assignment 1 - The Hacker Rank\n",
    "\n",
    "HackerRank is a place where programmers from all over the world come together to solve problems in a wide range of Computer Science domains.\n",
    "\n",
    "As you solve more challenges, you earn points and move up the HackerRank Leaderboard.\n",
    "\n",
    "Looking for a job at an awesome company? You can get hired by solving [challenges](https://www.hackerrank.com/jobs/search)!\n",
    "\n",
    "It's cool. Let's establish your knowledge and fight for glory!\n",
    "\n",
    "But before that let's make it clear that.."
   ]
  },
  {
   "cell_type": "markdown",
   "metadata": {
    "colab_type": "text",
    "id": "-ndmD4naciAN"
   },
   "source": [
    "## Note-taking is IMPORTANT\n",
    "\n",
    "Blog: [Why is note-taking important](https://nickblackbourn.com/blog/why-is-note-taking-important/)\n",
    "\n",
    "Note taking isn’t just important for college students, it’s a valuable life skill.\n",
    "\n",
    "Effective note taking helps you to remember information and aids your understanding of that information. \n",
    "\n",
    "**Notes boost your understanding**\n",
    "\n",
    "By making notes, you force yourself to construct a conceptual mental representation of the ideas you are grappling with. It is this process that helps you comprehend the subject matter you are working with.\n",
    "\n",
    "**Notes are a repository of your thinking**\n",
    "\n",
    "When you need to recall something that you came across a while ago, you can go over the main ideas by looking over your notes. This is why good, comprehensive notes are so useful; they are a catalogue of the best ideas you’ve encountered, and what you thought about them.\n",
    "\n",
    "etc.\n",
    "\n",
    "\n",
    "\n",
    "\n",
    "\n",
    "\n",
    "\n"
   ]
  },
  {
   "cell_type": "markdown",
   "metadata": {
    "colab_type": "text",
    "id": "IGvKPsdVfX-F"
   },
   "source": [
    "## Requirements\n",
    "\n",
    "Pick 10 challenges on HackerRank about SQL and 5 about Python in **easy** level:\n",
    "\n",
    "[HackerRank - Domain SQL](https://www.hackerrank.com/domains/sql?filters%5Bdifficulty%5D%5B%5D=easy&filters%5Bsubdomains%5D%5B%5D=select)\n",
    "\n",
    "[HackerRank - Domain Python](https://www.hackerrank.com/domains/python?filters%5Bdifficulty%5D%5B%5D=easy)\n",
    "\n",
    "For each challenge:\n",
    "\n",
    "* Create a markdown cell first that describes the challenge.\n",
    "* Solve the challenge on HackerRank and copy your solution to a code cell below\n",
    "* (Optional) A short description about how you came up with the solution would be awesome."
   ]
  },
  {
   "cell_type": "markdown",
   "metadata": {
    "colab_type": "text",
    "id": "higGK1Y5iAea"
   },
   "source": [
    "## Example"
   ]
  },
  {
   "cell_type": "markdown",
   "metadata": {
    "colab_type": "text",
    "id": "D2yU2FYDi4tj"
   },
   "source": [
    "### SQL"
   ]
  },
  {
   "cell_type": "markdown",
   "metadata": {
    "colab_type": "text",
    "id": "gu4DDH7Ki77C"
   },
   "source": [
    "\n",
    "#### Problem 1\n",
    "\n",
    "Query all columns for all American cities in **CITY** with populations larger than 100000. The CountryCode for America is USA.\n",
    "\n",
    "**Input Format**\n",
    "\n",
    "The **CITY** table is described as follows:\n",
    "\n",
    "| Field | Type |\n",
    "|:----:|:---:|\n",
    "| ID | NUMBER |\n",
    "| NAME | VARCHAR2(17) |\n",
    "| COUNTRYCODE | VARCHAR2(3) |\n",
    "| DISTRICT | VARCHAR2(20) |\n",
    "| POPULATION | NUMBER |"
   ]
  },
  {
   "cell_type": "code",
   "execution_count": 0,
   "metadata": {
    "colab": {},
    "colab_type": "code",
    "id": "hhAwMjyhbT1b"
   },
   "outputs": [],
   "source": [
    "# Solution\n",
    "# SELECT * from city WHERE population>100000 AND countrycode='USA';"
   ]
  },
  {
   "cell_type": "markdown",
   "metadata": {
    "colab_type": "text",
    "id": "0AxyfiJijJ7T"
   },
   "source": [
    "### Python"
   ]
  },
  {
   "cell_type": "markdown",
   "metadata": {
    "colab_type": "text",
    "id": "PEW8LsB5jLqf"
   },
   "source": [
    "#### Problem 1\n",
    "\n",
    "**Task** \n",
    "Given an integer, , perform the following conditional actions:\n",
    "\n",
    "* If `n` is odd, print *Weird*\n",
    "* If `n` is even and in the inclusive range of 2 to 5, print *Not Weird*\n",
    "* If `n` is even and in the inclusive range of 6 to 20, print *Weird*\n",
    "* If `n` is even and greater than 20, print *Not Weird*\n",
    "\n",
    "**Input Format**\n",
    "\n",
    "A single line containing a positive integer, .\n",
    "\n",
    "**Output Format**\n",
    "\n",
    "Print Weird if the number is weird; otherwise, print Not Weird."
   ]
  },
  {
   "cell_type": "code",
   "execution_count": 0,
   "metadata": {
    "colab": {},
    "colab_type": "code",
    "id": "JBOxgw0zjLC2"
   },
   "outputs": [],
   "source": [
    "n = int(input())\n",
    "\n",
    "if n % 2 == 1:\n",
    "    print('Weird')\n",
    "else:\n",
    "    if (n >= 2) and (n <= 5):\n",
    "        print('Not Weird')\n",
    "    elif (n >= 6) and (n <= 20):\n",
    "        print('Weird')\n",
    "    else:\n",
    "        print('Not Weird')"
   ]
  },
  {
   "cell_type": "markdown",
   "metadata": {
    "colab_type": "text",
    "id": "a-Q3VE7YkA9A"
   },
   "source": [
    "## Your turn\n",
    "\n",
    "Good luck and have fun!"
   ]
  },
  {
   "cell_type": "markdown",
   "metadata": {},
   "source": [
    "# Python 3 on Hackerrank"
   ]
  },
  {
   "cell_type": "markdown",
   "metadata": {},
   "source": [
    "## Problem 1 : [Find a string](https://www.hackerrank.com/challenges/find-a-string/problem)\n",
    "[solution](https://www.hackerrank.com/rest/contests/master/challenges/find-a-string/hackers/ngochieu10041997/download_solution)\n",
    "\n",
    "#### Task\n",
    "- Print the number of times that the substring occurs in the given string. String traversal will take place fromPleft to right, not from right to left.\n",
    "- __NOTE__: String letters are case-sensitive.\n",
    "\n",
    "#### Input Format\n",
    "- The first line of input contains the original string. The next line contains the substring.\n",
    "\n",
    "#### Constraints\n",
    "- 1 $\\leq$ len(string) $\\leq$ 200\n",
    "- Each character in the string is an ascii character.\n",
    "\n",
    "#### Output Format\n",
    "- Output the integer number indicating the total number of occurrences of the substring in the original string."
   ]
  },
  {
   "cell_type": "code",
   "execution_count": 7,
   "metadata": {
    "colab": {},
    "colab_type": "code",
    "id": "-e3akO0Gj_gk"
   },
   "outputs": [],
   "source": [
    "def count_substring(string, sub_string):\n",
    "    countSub = 0\n",
    "    for i in range(len(string) - len(sub_string) + 1):\n",
    "        countSub += 1 if string[i:i+len(sub_string)] == sub_string else 0 \n",
    "    return countSub"
   ]
  },
  {
   "cell_type": "code",
   "execution_count": 8,
   "metadata": {},
   "outputs": [
    {
     "name": "stdout",
     "output_type": "stream",
     "text": [
      "ABCDCDC\n",
      "CDC\n",
      "ABC\n",
      "BCD\n",
      "CDC\n",
      "DCD\n",
      "1\n"
     ]
    }
   ],
   "source": [
    "string = input().strip()\n",
    "sub_string = input().strip()\n",
    "\n",
    "count = count_substring(string, sub_string)\n",
    "print(count)"
   ]
  },
  {
   "cell_type": "markdown",
   "metadata": {},
   "source": [
    "## Problem 2: [String Validator](https://www.hackerrank.com/challenges/string-validators/problem)\n",
    "[solution](https://www.hackerrank.com/rest/contests/master/challenges/string-validators/hackers/ngochieu10041997/download_solution)\n",
    "#### Task\n",
    "- You are given a string ***S***\n",
    "- Your task is to find out if the string _S_ contains: alphanumeric characters, alphabetical characters, digits, lowercase and uppercase characters.\n",
    "- Where:\n",
    "    - alphanumeric (a-z, A-Z and 0-9)\n",
    "    - alphabetical (a-z and A-Z).\n",
    "    - digits (0-9).\n",
    "    - lowercase characters (a-z).\n",
    "    - uppercase characters (A-Z).\n",
    "\n",
    "#### Input Format\n",
    "- A single line containing a string ***S***\n",
    "\n",
    "#### Constraints\n",
    "- 0 < len(_S_) < 100\n",
    "\n",
    "#### Output Format\n",
    "- In the first line, print True if  has any alphanumeric characters. Otherwise, print False.\n",
    "- In the second line, print True if  has any alphabetical characters. Otherwise, print False.\n",
    "- In the third line, print True if  has any digits. Otherwise, print False.\n",
    "- In the fourth line, print True if  has any lowercase characters. Otherwise, print False.\n",
    "- In the fifth line, print True if  has any uppercase characters. Otherwise, print False."
   ]
  },
  {
   "cell_type": "code",
   "execution_count": 21,
   "metadata": {},
   "outputs": [],
   "source": [
    "def StringValidator(s):\n",
    "    (countAlphabet, countDigits, countLower, countUpper) = (0, 0, 0, 0)\n",
    "    for i in s:\n",
    "        if(countAlphabet == 0 or countDigits == 0 or countLower == 0 or countUpper == 0):\n",
    "            countAlphabet += 1 if (i.isalpha()) else 0\n",
    "            countDigits += 1 if (i.isdigit()) else 0\n",
    "            countLower += 1 if (i.islower()) else 0\n",
    "            countUpper += 1 if (i.isupper()) else 0\n",
    "        else:\n",
    "            break\n",
    "            \n",
    "    print (True if (countAlphabet > 0 or countDigits > 0) else False)\n",
    "    print (True if countAlphabet > 0 else False)\n",
    "    print (True if countDigits > 0 else False)\n",
    "    print (True if countLower > 0 else False)\n",
    "    print (True if countUpper > 0 else False)"
   ]
  },
  {
   "cell_type": "code",
   "execution_count": 22,
   "metadata": {},
   "outputs": [
    {
     "name": "stdout",
     "output_type": "stream",
     "text": [
      "aQ2\n",
      "True\n",
      "True\n",
      "True\n",
      "True\n",
      "True\n"
     ]
    }
   ],
   "source": [
    "inputstring = input()\n",
    "StringValidator(inputstring)"
   ]
  },
  {
   "cell_type": "markdown",
   "metadata": {},
   "source": [
    "## Problem 3 : [Capitalize!](https://www.hackerrank.com/challenges/capitalize/problem)\n",
    "[solution](https://www.hackerrank.com/rest/contests/master/challenges/capitalize/hackers/ngochieu10041997/download_solution)\n",
    "#### Task\n",
    "- You are asked to ensure that the first and last names of people begin with a capital letter in their passports.\n",
    "- For example, `alison heck` should be capitalised correctly as `Alison Heck`.\n",
    "- Given a full name, your task is to capitalize the name appropriately.\n",
    "\n",
    "#### Input Format\n",
    "- A single line of input containing the full name, _S_.\n",
    "\n",
    "#### Constraints\n",
    "- 0 < len(_S_) < 100\n",
    "\n",
    "#### Output Format\n",
    "- Print the capitalized string, _S_.\n"
   ]
  },
  {
   "cell_type": "code",
   "execution_count": 23,
   "metadata": {},
   "outputs": [],
   "source": [
    "def solve(s):\n",
    "    returnString = ''\n",
    "    flag = False\n",
    "    for i in range(len(s)):\n",
    "        if (s[i].isalpha() and not flag):\n",
    "            # First character or First after-space Character\n",
    "            returnString += s[i].capitalize()\n",
    "            flag = True\n",
    "        elif (s[i]==\" \"):\n",
    "            # If character is space\n",
    "            returnString += s[i]\n",
    "            flag = False\n",
    "        else:\n",
    "            # If you got something else in your name\n",
    "            returnString += s[i]\n",
    "            flag = True\n",
    "            \n",
    "    return returnString"
   ]
  },
  {
   "cell_type": "code",
   "execution_count": 24,
   "metadata": {},
   "outputs": [
    {
     "name": "stdout",
     "output_type": "stream",
     "text": [
      "chirs alan\n",
      "Chirs Alan\n",
      "adam 1 lamber\n",
      "Adam 1 Lamber\n",
      "chris 3aul\n",
      "Chris 3aul\n",
      "jason  kidoz\n",
      "Jason  Kidoz\n"
     ]
    }
   ],
   "source": [
    "for i in range(4):\n",
    "    s = input()\n",
    "    result = solve(s)\n",
    "    print(result)"
   ]
  },
  {
   "cell_type": "markdown",
   "metadata": {},
   "source": [
    "## Problem 4 : [The Captain's Room](https://www.hackerrank.com/challenges/py-the-captains-room/problem)\n",
    "[solution](https://www.hackerrank.com/rest/contests/master/challenges/py-the-captains-room/hackers/ngochieu10041997/download_solution)\n",
    "#### Task\n",
    "Mr. Anant Asankhya is the manager at the INFINITE hotel. The hotel has an infinite amount of rooms.\n",
    "\n",
    "One fine day, a finite number of tourists come to stay at the hotel.\n",
    "The tourists consist of:\n",
    "→ A Captain.\n",
    "→ An unknown group of families consisting of ___K___ members per group where ___K___ ≠ 1.\n",
    "\n",
    "The Captain was given a separate room, and the rest were given one room per group.\n",
    "\n",
    "Mr. Anant has an unordered list of randomly arranged room entries. The list consists of the room numbers for all of the tourists. The room numbers will appear ___K___ times per group except for the Captain's room.\n",
    "\n",
    "Mr. Anant needs you to help him find the Captain's room number.\n",
    "The total number of tourists or the total number of groups of families is not known to you.\n",
    "You only know the value of ___K___ and the room number list.\n",
    "\n",
    "#### Input Format\\\n",
    "- The first line consists of an integer, , the size of each group.\n",
    "- The second line contains the unordered elements of the room number list.\n",
    "\n",
    "#### Constraints\n",
    "- 1 < ___K___ < 1000\n",
    "\n",
    "#### Output Format\n",
    "- Output the Captain's room number.\n",
    "\n",
    "#### Sample Input\n",
    "- 5\n",
    "- 1 2 3 6 5 4 4 2 5 3 6 1 6 5 3 2 4 1 2 5 1 4 3 6 8 4 3 1 5 6 2 \n",
    "\n",
    "#### Sample Output\n",
    "8"
   ]
  },
  {
   "cell_type": "code",
   "execution_count": 25,
   "metadata": {},
   "outputs": [],
   "source": [
    "def getCaptainRoom():\n",
    "    groupSize = input()\n",
    "    roomNumber = input()\n",
    "\n",
    "    listNumber = roomNumber.split()\n",
    "    uniqueList = list(set(listNumber))\n",
    "\n",
    "    for i in uniqueList:\n",
    "        countNum = 0\n",
    "        for item in listNumber:\n",
    "            if(countNum < 2):\n",
    "                countNum += 1 if item == i else 0\n",
    "            else:\n",
    "                break\n",
    "\n",
    "        if(countNum < 2):\n",
    "            print(i)"
   ]
  },
  {
   "cell_type": "code",
   "execution_count": 26,
   "metadata": {},
   "outputs": [
    {
     "name": "stdout",
     "output_type": "stream",
     "text": [
      "5\n",
      "1 2 3 6 5 4 4 2 5 3 6 1 6 5 3 2 4 1 2 5 1 4 3 6 8 4 3 1 5 6 2\n",
      "8\n"
     ]
    }
   ],
   "source": [
    "getCaptainRoom()"
   ]
  },
  {
   "cell_type": "markdown",
   "metadata": {},
   "source": [
    "## Problem 5 : [Nested Lists](https://www.hackerrank.com/challenges/nested-list/problem)\n",
    "[solution](https://www.hackerrank.com/rest/contests/master/challenges/nested-list/hackers/ngochieu10041997/download_solution)\n",
    "#### Task\n",
    "- Given the names and grades for each student in a Physics class of ___N___ students, store them in a nested list and print the name(s) of any student(s) having the second lowest grade.\n",
    "- __Note__: If there are multiple students with the same grade, order their names alphabetically and print each name on a new line.\n",
    "\n",
    "#### Input Format\n",
    "- The first line contains an integer, ___N___ , the number of students.\n",
    "- The ___2N___ subsequent lines describe each student over  lines; the first line contains a student's name, and the second line contains their grade.\n",
    "\n",
    "#### Constraints\n",
    "- 2 $\\leq$ ___N___ $\\leq$ 5\n",
    "\n",
    "#### Output Format\n",
    "- Print the name(s) of any student(s) having the second lowest grade in Physics; if there are multiple students, order their names alphabetically and print each one on a new line."
   ]
  },
  {
   "cell_type": "code",
   "execution_count": 27,
   "metadata": {},
   "outputs": [],
   "source": [
    "def GetSeconfLowestStudents():\n",
    "    numberOfStudents = input()\n",
    "    nameList, scoreList, resultName = [], [], []\n",
    "\n",
    "    for i in range(int(numberOfStudents,10)):\n",
    "        nameList.append(input())\n",
    "        scoreList.append(input())\n",
    "\n",
    "    uniqueScore = list(set(scoreList))\n",
    "    uniqueScore.sort()\n",
    "    secondLowestScore = uniqueScore[1]\n",
    "\n",
    "    for (name, score) in zip(nameList, scoreList):\n",
    "        if (score == secondLowestScore):\n",
    "            resultName.append(name)\n",
    "\n",
    "    resultName.sort()\n",
    "\n",
    "    return resultName"
   ]
  },
  {
   "cell_type": "code",
   "execution_count": 30,
   "metadata": {},
   "outputs": [
    {
     "name": "stdout",
     "output_type": "stream",
     "text": [
      "5\n",
      "Doraemon\n",
      "5\n",
      "Xuka\n",
      "5\n",
      "Nobita\n",
      "4\n",
      "Xeko\n",
      "6\n",
      "Chaien\n",
      "6\n"
     ]
    }
   ],
   "source": [
    "secondLowestList = GetSeconfLowestStudents()"
   ]
  },
  {
   "cell_type": "code",
   "execution_count": 31,
   "metadata": {},
   "outputs": [
    {
     "name": "stdout",
     "output_type": "stream",
     "text": [
      "Doraemon\n",
      "Xuka\n"
     ]
    }
   ],
   "source": [
    "for name in secondLowestList:\n",
    "    print(name)"
   ]
  },
  {
   "cell_type": "markdown",
   "metadata": {},
   "source": [
    "# SQL on Hackerrank"
   ]
  },
  {
   "attachments": {},
   "cell_type": "markdown",
   "metadata": {},
   "source": [
    "## Problem 1: Revising the Select Query I\n",
    "\n",
    "### Task\n",
    "https://www.hackerrank.com/challenges/revising-the-select-query/problem\n",
    "\n",
    "- Query all columns for all American cities in CITY with populations larger than 100000. The CountryCode for America is USA.\n",
    "<img src='https://s3.amazonaws.com/hr-challenge-images/8137/1449729804-f21d187d0f-CITY.jpg'/>\n",
    "\n",
    "### Solution\n",
    "https://www.hackerrank.com/rest/contests/master/challenges/revising-the-select-query/hackers/ngochieu10041997/download_solution\n",
    "```sql\n",
    "select * from CITY \n",
    "where POPULATION>100000 AND COUNTRYCODE=\"USA\";\n",
    "```"
   ]
  },
  {
   "attachments": {},
   "cell_type": "markdown",
   "metadata": {},
   "source": [
    "## Problem 2: Revising the Select Query II\n",
    "\n",
    "### Task\n",
    "https://www.hackerrank.com/challenges/revising-the-select-query-2/problem\n",
    "- Query the names of all American cities in CITY with populations larger than 120000. The CountryCode for America is USA.\n",
    "<img src='https://s3.amazonaws.com/hr-challenge-images/8137/1449729804-f21d187d0f-CITY.jpg'/>\n",
    "\n",
    "### Solution\n",
    "https://www.hackerrank.com/rest/contests/master/challenges/revising-the-select-query-2/hackers/ngochieu10041997/download_solution\n",
    "```sql\n",
    "select NAME from CITY where COUNTRYCODE=\"USA\" and POPULATION>120000;\n",
    "```"
   ]
  },
  {
   "attachments": {},
   "cell_type": "markdown",
   "metadata": {},
   "source": [
    "## Problem 3: Select All\n",
    "\n",
    "### Task\n",
    "https://www.hackerrank.com/challenges/select-all-sql/problem\n",
    "- Query all columns (attributes) for every row in the CITY table.\n",
    "<img src='https://s3.amazonaws.com/hr-challenge-images/8137/1449729804-f21d187d0f-CITY.jpg'/>\n",
    "\n",
    "### Solution\n",
    "https://www.hackerrank.com/rest/contests/master/challenges/select-all-sql/hackers/ngochieu10041997/download_solution\n",
    "```sql\n",
    "select * from CITY;\n",
    "```"
   ]
  },
  {
   "attachments": {},
   "cell_type": "markdown",
   "metadata": {},
   "source": [
    "## Problem 4: Select By ID\n",
    "\n",
    "### Task\n",
    "https://www.hackerrank.com/challenges/select-by-id/problem\n",
    "- Query all columns for a city in CITY with the ID 1661.\n",
    "<img src='https://s3.amazonaws.com/hr-challenge-images/8137/1449729804-f21d187d0f-CITY.jpg'/>\n",
    "\n",
    "### Solution\n",
    "https://www.hackerrank.com/rest/contests/master/challenges/select-by-id/hackers/ngochieu10041997/download_solution\n",
    "```sql\n",
    "select * from CITY where ID=\"1661\";\n",
    "```"
   ]
  },
  {
   "attachments": {},
   "cell_type": "markdown",
   "metadata": {},
   "source": [
    "## Problem 5: Japanese Cities Attributes\n",
    "\n",
    "### Task\n",
    "https://www.hackerrank.com/challenges/japanese-cities-attributes/problem\n",
    "- Query all attributes of every Japanese city in the CITY table. The COUNTRYCODE for Japan is JPN.\n",
    "<img src='https://s3.amazonaws.com/hr-challenge-images/8137/1449729804-f21d187d0f-CITY.jpg'/>\n",
    "\n",
    "### Solution\n",
    "https://www.hackerrank.com/rest/contests/master/challenges/japanese-cities-attributes/hackers/ngochieu10041997/download_solution\n",
    "```sql\n",
    "select * from CITY where COUNTRYCODE=\"JPN\"\n",
    "```"
   ]
  },
  {
   "attachments": {},
   "cell_type": "markdown",
   "metadata": {},
   "source": [
    "## Problem 6: Japanese Cities Name\n",
    "\n",
    "### Task\n",
    "https://www.hackerrank.com/challenges/japanese-cities-name/problem\n",
    "- Query the names of all the Japanese cities in the CITY table. The COUNTRYCODE for Japan is JPN.\n",
    "<img src='https://s3.amazonaws.com/hr-challenge-images/8137/1449729804-f21d187d0f-CITY.jpg'/>\n",
    "\n",
    "### Solution\n",
    "https://www.hackerrank.com/rest/contests/master/challenges/japanese-cities-name/hackers/ngochieu10041997/download_solution\n",
    "```sql\n",
    "select name from city where countrycode=\"JPN\";\n",
    "```"
   ]
  },
  {
   "attachments": {},
   "cell_type": "markdown",
   "metadata": {},
   "source": [
    "## Problem 7: Weather Observation Station 1\n",
    "\n",
    "### Task\n",
    "https://www.hackerrank.com/challenges/weather-observation-station-1/problem\n",
    "- Query a list of CITY and STATE from the STATION table.\n",
    "<img src='https://s3.amazonaws.com/hr-challenge-images/9336/1449345840-5f0a551030-Station.jpg'/>\n",
    "\n",
    "### Solution\n",
    "https://www.hackerrank.com/rest/contests/master/challenges/weather-observation-station-1/hackers/ngochieu10041997/download_solution\n",
    "```sql\n",
    "select city, state from STATION;\n",
    "```"
   ]
  },
  {
   "attachments": {},
   "cell_type": "markdown",
   "metadata": {},
   "source": [
    "## Problem 8: Weather Observation Station 3\n",
    "\n",
    "### Task\n",
    "https://www.hackerrank.com/challenges/weather-observation-station-3/problem\n",
    "- Query a list of CITY names from STATION with even ID numbers only. You may print the results in any order, but must exclude duplicates from your answer.\n",
    "<img src='https://s3.amazonaws.com/hr-challenge-images/9336/1449345840-5f0a551030-Station.jpg'/>\n",
    "\n",
    "### Solution\n",
    "https://www.hackerrank.com/rest/contests/master/challenges/weather-observation-station-3/hackers/ngochieu10041997/download_solution\n",
    "```sql\n",
    "select distinct CITY from STATION where MOD(ID,2)=0 order by CITY;\n",
    "```"
   ]
  },
  {
   "attachments": {},
   "cell_type": "markdown",
   "metadata": {},
   "source": [
    "## Problem 9: Weather Observation Station 4\n",
    "\n",
    "### Task\n",
    "https://www.hackerrank.com/challenges/weather-observation-station-4/problem\n",
    "- Let ___N___  be the number of CITY entries in STATION, and let ___N'___ be the number of distinct CITY names in STATION; query the value of ___N - N'___ from STATION. In other words, find the difference between the total number of CITY entries in the table and the number of distinct CITY entries in the table.\n",
    "<img src='https://s3.amazonaws.com/hr-challenge-images/9336/1449345840-5f0a551030-Station.jpg'/>\n",
    "\n",
    "### Solution\n",
    "https://www.hackerrank.com/rest/contests/master/challenges/weather-observation-station-4/hackers/ngochieu10041997/download_solution\n",
    "```sql\n",
    "select (count(city) - count(distinct(city))) from station;\n",
    "```"
   ]
  },
  {
   "attachments": {},
   "cell_type": "markdown",
   "metadata": {},
   "source": [
    "## Problem 10: Weather Observation Station 5\n",
    "\n",
    "### Task\n",
    "https://www.hackerrank.com/challenges/weather-observation-station-5/problem\n",
    "- Query the two cities in STATION with the shortest and longest CITY names, as well as their respective lengths (i.e.: number of characters in the name). If there is more than one smallest or largest city, choose the one that comes first when ordered alphabetically.\n",
    "<img src='https://s3.amazonaws.com/hr-challenge-images/9336/1449345840-5f0a551030-Station.jpg'/>\n",
    "\n",
    "### Solution\n",
    "https://www.hackerrank.com/rest/contests/master/challenges/weather-observation-station-5/hackers/ngochieu10041997/download_solution\n",
    "```sql\n",
    "select CITY, LENGTH(CITY) from STATION order by LENGTH(CITY), CITY limit 1;\n",
    "select CITY, LENGTH(CITY) from STATION order by LENGTH(CITY) DESC, CITY limit 1;\n",
    "```"
   ]
  }
 ],
 "metadata": {
  "colab": {
   "name": "DAwP_Assignment_1.ipynb",
   "provenance": []
  },
  "kernelspec": {
   "display_name": "Python 3",
   "language": "python",
   "name": "python3"
  },
  "language_info": {
   "codemirror_mode": {
    "name": "ipython",
    "version": 3
   },
   "file_extension": ".py",
   "mimetype": "text/x-python",
   "name": "python",
   "nbconvert_exporter": "python",
   "pygments_lexer": "ipython3",
   "version": "3.6.7"
  }
 },
 "nbformat": 4,
 "nbformat_minor": 1
}
